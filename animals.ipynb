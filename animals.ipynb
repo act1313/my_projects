{
 "metadata": {
  "language_info": {
   "codemirror_mode": {
    "name": "ipython",
    "version": 3
   },
   "file_extension": ".py",
   "mimetype": "text/x-python",
   "name": "python",
   "nbconvert_exporter": "python",
   "pygments_lexer": "ipython3",
   "version": "3.7.7-final"
  },
  "orig_nbformat": 2,
  "kernelspec": {
   "name": "python37764bitdeeplearningconda95768a5e2b704a0e81ee34c49ee0444d",
   "display_name": "Python 3.7.7 64-bit ('deep_learning': conda)",
   "language": "python"
  }
 },
 "nbformat": 4,
 "nbformat_minor": 2,
 "cells": [
  {
   "cell_type": "code",
   "execution_count": 1,
   "metadata": {},
   "outputs": [],
   "source": [
    "from tensorflow import keras as keras\n",
    "import tensorflow as tf\n",
    "import numpy as np \n",
    "import pandas as pd \n",
    "import matplotlib.pyplot as plt\n",
    "from tensorflow.keras.preprocessing.image import ImageDataGenerator"
   ]
  },
  {
   "cell_type": "code",
   "execution_count": 2,
   "metadata": {},
   "outputs": [
    {
     "output_type": "stream",
     "name": "stdout",
     "text": [
      "Found 4258 images belonging to 5 classes.\n",
      "Found 1063 images belonging to 5 classes.\n",
      "Found 1233 images belonging to 5 classes.\n"
     ]
    }
   ],
   "source": [
    "train_path = \"dataset/train\"\n",
    "test_path = \"dataset/test\"\n",
    "\n",
    "size = 300\n",
    "img_size = (size, size)\n",
    "n_classes = 5\n",
    "\n",
    "datagen = ImageDataGenerator(\n",
    "    rotation_range=45,\n",
    "    width_shift_range = 0.2,\n",
    "    height_shift_range = 0.2,\n",
    "    shear_range = 0.2,\n",
    "    zoom_range = 0.2,\n",
    "    horizontal_flip = True,\n",
    "    vertical_flip = True,\n",
    "    fill_mode = 'nearest',\n",
    "    validation_split=0.2\n",
    ")\n",
    "\n",
    "train = datagen.flow_from_directory(\n",
    "    train_path,\n",
    "    target_size = img_size,\n",
    "    batch_size=64,\n",
    "    seed = 42,\n",
    "    subset='training',\n",
    "    shuffle = True,\n",
    "    class_mode='categorical'\n",
    ")\n",
    "\n",
    "validation = datagen.flow_from_directory(\n",
    "    train_path,\n",
    "    target_size = img_size,\n",
    "    batch_size=64,\n",
    "    seed = 42,\n",
    "    subset='validation',\n",
    "    shuffle = True,\n",
    "    class_mode='categorical'\n",
    ")\n",
    "\n",
    "test = datagen.flow_from_directory(\n",
    "    test_path,\n",
    "    target_size = img_size,\n",
    "    batch_size = 64,\n",
    "    seed = 42,\n",
    "    class_mode = 'categorical',\n",
    "    shuffle = False\n",
    ")\n"
   ]
  },
  {
   "cell_type": "code",
   "execution_count": 3,
   "metadata": {},
   "outputs": [],
   "source": [
    "from tensorflow.keras.layers import Dense, Conv2D, Flatten, MaxPool2D, Dropout\n",
    "from tensorflow.keras.applications import VGG16"
   ]
  },
  {
   "cell_type": "code",
   "execution_count": 4,
   "metadata": {},
   "outputs": [],
   "source": [
    "model = keras.Sequential()\n",
    "conv_base = VGG16(include_top=False, input_shape=(size, size, 3))\n",
    "conv_base.trainable = False\n",
    "\"\"\"\n",
    "model.add(Conv2D(128, (1, 1), input_shape=(size, size, 3), activation=\"relu\"))\n",
    "model.add(MaxPool2D(pool_size=(2,2), padding=\"same\"))\n",
    "model.add(Conv2D(256, (3, 3), activation=\"relu\"))\n",
    "model.add(MaxPool2D(pool_size=(2,2), padding=\"same\"))\n",
    "model.add(Conv2D(256, (5, 5), activation=\"relu\"))\n",
    "model.add(MaxPool2D(pool_size=(2,2), padding=\"same\"))\n",
    "model.add(Conv2D(256, (7, 7), activation=\"relu\"))\n",
    "model.add(MaxPool2D(pool_size=(2,2), padding=\"same\"))\n",
    "\"\"\"\n",
    "model.add(conv_base)\n",
    "model.add(Flatten())\n",
    "model.add(Dense(256, activation=\"relu\"))\n",
    "model.add(Dense(0.5))\n",
    "model.add(Dense(5, activation=\"softmax\"))\n"
   ]
  },
  {
   "cell_type": "code",
   "execution_count": 5,
   "metadata": {},
   "outputs": [],
   "source": [
    "model.compile(loss='categorical_crossentropy',\n",
    "              optimizer='adam',\n",
    "              metrics=['accuracy'])"
   ]
  },
  {
   "cell_type": "code",
   "execution_count": 6,
   "metadata": {},
   "outputs": [],
   "source": [
    "from tensorflow.keras.callbacks import EarlyStopping\n",
    "early_stop = EarlyStopping(monitor='val_loss',patience=2)"
   ]
  },
  {
   "cell_type": "code",
   "execution_count": 7,
   "metadata": {},
   "outputs": [
    {
     "output_type": "stream",
     "name": "stdout",
     "text": [
      "Model: \"sequential\"\n_________________________________________________________________\nLayer (type)                 Output Shape              Param #   \n=================================================================\nvgg16 (Model)                (None, 9, 9, 512)         14714688  \n_________________________________________________________________\nflatten (Flatten)            (None, 41472)             0         \n_________________________________________________________________\ndense (Dense)                (None, 256)               10617088  \n_________________________________________________________________\ndense_1 (Dense)              (None, 0)                 0         \n_________________________________________________________________\ndense_2 (Dense)              (None, 5)                 5         \n=================================================================\nTotal params: 25,331,781\nTrainable params: 10,617,093\nNon-trainable params: 14,714,688\n_________________________________________________________________\n"
     ]
    }
   ],
   "source": [
    "model.summary()"
   ]
  },
  {
   "cell_type": "code",
   "execution_count": 8,
   "metadata": {},
   "outputs": [
    {
     "output_type": "stream",
     "name": "stdout",
     "text": [
      "Epoch 1/25\n"
     ]
    }
   ],
   "source": [
    "history = model.fit(train, batch_size=16, epochs=25, verbose=1, validation_data=validation)"
   ]
  },
  {
   "cell_type": "code",
   "execution_count": null,
   "metadata": {},
   "outputs": [],
   "source": [
    "losses = pd.DataFrame(model.history.history)\n",
    "losses[['accuracy','val_accuracy']].plot()\n",
    "losses[['loss','val_loss']].plot()"
   ]
  }
 ]
}